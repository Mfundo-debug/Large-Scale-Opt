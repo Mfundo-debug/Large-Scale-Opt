{
  "nbformat": 4,
  "nbformat_minor": 0,
  "metadata": {
    "colab": {
      "name": "201726904 Q2",
      "provenance": []
    },
    "kernelspec": {
      "name": "python3",
      "display_name": "Python 3"
    },
    "language_info": {
      "name": "python"
    }
  },
  "cells": [
    {
      "cell_type": "code",
      "metadata": {
        "id": "c5rCTnWTbixd"
      },
      "source": [
        "import numpy as np\n",
        "import time\n",
        "import matplotlib.pyplot as plt\n"
      ],
      "execution_count": null,
      "outputs": []
    },
    {
      "cell_type": "markdown",
      "metadata": {
        "id": "mwV6evOebxjH"
      },
      "source": [
        "# Matrix initialization"
      ]
    },
    {
      "cell_type": "code",
      "metadata": {
        "colab": {
          "base_uri": "https://localhost:8080/"
        },
        "id": "eTedwzjpbwha",
        "outputId": "bf18f0f4-4f15-4fca-ad35-fbe12d1949a9"
      },
      "source": [
        "#declare rows\n",
        "n = 5\n",
        "# declare columns\n",
        "m = 4\n",
        "\n",
        "#we can use list comprehension\n",
        "#to initialize\n",
        "res = [[0 for i in range(m)]] * n\n",
        "print('matrix after initializing:' + str(res))\n",
        "a= time.perf_counter()\n",
        "b= time.process_time()\n",
        "c =time.thread_time()\n",
        "d=time.monotonic()\n",
        "print ('performance counter: ' + str(a))\n",
        "print ('process time: ' + str(b))\n",
        "print ('thread time: ' + str(c))\n",
        "print ('monotonic time:' +str(d))"
      ],
      "execution_count": null,
      "outputs": [
        {
          "output_type": "stream",
          "text": [
            "matrix after initializing:[[0, 0, 0, 0], [0, 0, 0, 0], [0, 0, 0, 0], [0, 0, 0, 0], [0, 0, 0, 0]]\n",
            "performance counter: 2039.970053392\n",
            "process time: 13.171286971\n",
            "thread time: 8.411445182\n",
            "monotonic time:2039.970107861\n"
          ],
          "name": "stdout"
        }
      ]
    },
    {
      "cell_type": "markdown",
      "metadata": {
        "id": "J3eEbhkaihpF"
      },
      "source": [
        "2.3 Given above information, we obersve that we used four elements of time to check performance monitoring of our code\n",
        "hotspot we can see that the processing of time is 13.17s to make an output in this section and our thread time is  8.14.\n",
        "the only way to address this is to divide the program into subprograms in order for time to be reduced"
      ]
    },
    {
      "cell_type": "markdown",
      "metadata": {
        "id": "G4JuV5Y3coFt"
      },
      "source": [
        "# Matrix Manipulation"
      ]
    },
    {
      "cell_type": "code",
      "metadata": {
        "colab": {
          "base_uri": "https://localhost:8080/"
        },
        "id": "f0s4drHtci4y",
        "outputId": "77d1f0a9-a0ad-46e8-9a82-031c11b57498"
      },
      "source": [
        "x = np.array([[1,2], [3,4]])\n",
        "y = np.array([[5,6], [7,8]])\n",
        "\n",
        "#add() matrices\n",
        "addM = np.add(x,y)\n",
        "print('element wise addition of matrix is:' +str(addM))\n",
        "\n",
        "#subtract() matrices\n",
        "subM = np.subtract(x,y)\n",
        "print('element wise subtraction of matrix is:' + str(subM))\n",
        "a= time.perf_counter()\n",
        "b= time.process_time()\n",
        "c =time.thread_time()\n",
        "print ('performance counter: ' + str(a))\n",
        "print ('process time: ' + str(b))\n",
        "print ('thread time: ' + str(c))"
      ],
      "execution_count": null,
      "outputs": [
        {
          "output_type": "stream",
          "text": [
            "element wise addition of matrix is:[[ 6  8]\n",
            " [10 12]]\n",
            "element wise subtraction of matrix is:[[-4 -4]\n",
            " [-4 -4]]\n",
            "performance counter: 1985.216999654\n",
            "process time: 12.811939553\n",
            "thread time: 8.235729801\n"
          ],
          "name": "stdout"
        }
      ]
    },
    {
      "cell_type": "markdown",
      "metadata": {
        "id": "GTGO9aU5ifua"
      },
      "source": [
        "under process time it took less than  matrix initilization \n",
        "but less time than of matrix initilization"
      ]
    },
    {
      "cell_type": "markdown",
      "metadata": {
        "id": "jy1dvdlkeEUi"
      },
      "source": [
        "# Visualization"
      ]
    },
    {
      "cell_type": "code",
      "metadata": {
        "colab": {
          "base_uri": "https://localhost:8080/",
          "height": 346
        },
        "id": "hmQ99Dz9d5D-",
        "outputId": "26661f3f-f85f-4650-c23e-401b4c669abb"
      },
      "source": [
        "# line 1 points\n",
        "x1 = [1,2,3]\n",
        "y1 = [2,4,1]\n",
        "# plotting the line 1 points \n",
        "plt.plot(x1, y1, label = \"line 1\")\n",
        "# line 2 points\n",
        "x2 = [1,2,3]\n",
        "y2 = [4,1,3]\n",
        "# plotting the line 2 points \n",
        "plt.plot(x2, y2, label = \"line 2\")\n",
        "  \n",
        "# naming the x axis\n",
        "plt.xlabel('x - axis')\n",
        "# naming the y axis\n",
        "plt.ylabel('y - axis')\n",
        "# giving a title to my graph\n",
        "plt.title('Two lines on same graph!')\n",
        "  \n",
        "# show a legend on the plot\n",
        "plt.legend()\n",
        "  \n",
        "# function to show the plot\n",
        "plt.show()\n",
        "a= time.perf_counter()\n",
        "b= time.process_time()\n",
        "c =time.thread_time()\n",
        "print ('performance counter: ' + str(a))\n",
        "print ('process time: ' + str(b))\n",
        "print ('thread time: ' + str(c))"
      ],
      "execution_count": null,
      "outputs": [
        {
          "output_type": "display_data",
          "data": {
            "image/png": "[encoded data removed]",
            "text/plain": [
              "<Figure size 432x288 with 1 Axes>"
            ]
          },
          "metadata": {
            "tags": [],
            "needs_background": "light"
          }
        },
        {
          "output_type": "stream",
          "text": [
            "performance counter: 1947.659875168\n",
            "process time: 12.664013327\n",
            "thread time: 8.207417282\n"
          ],
          "name": "stdout"
        }
      ]
    },
    {
      "cell_type": "markdown",
      "metadata": {
        "id": "3wX-E3c9jyaH"
      },
      "source": [
        "output for performance counter for visualization is 1947nseconds which took less time  and came last \n",
        "process time of visualization is 12.66 which makes it last position\n",
        "same applies to thread time with 8.20"
      ]
    },
    {
      "cell_type": "code",
      "metadata": {
        "id": "SdAyvVzZfMH0"
      },
      "source": [
        ""
      ],
      "execution_count": null,
      "outputs": []
    },
    {
      "cell_type": "markdown",
      "metadata": {
        "id": "D20T-8YLkcox"
      },
      "source": [
        "2.4 Explain the trade-off between various types of implementation of perfomance monitoring i.e manual vs automatic, real time vs summaries\n",
        "\n",
        "\n",
        "A tradeoff is a scenario in which one quality or element of something is sacrificed in exchange for another quality or aspect. Referring about the tradeoff between performance and security implies that both can be measured and that in order to improve one, we must sacrifice the other.\n",
        "\n",
        "A trade off could be ease of use vs better performance. such as matplotlib is easier to use, however gnuplot offers better performance.\n",
        "Use-case - Different visualizations perform different models and outputs. Analysis tools - How the visualisations are analysed, \n",
        "Scalability/Parallelism - How well an approach scales or deals with a growing HPC."
      ]
    }
  ]
}