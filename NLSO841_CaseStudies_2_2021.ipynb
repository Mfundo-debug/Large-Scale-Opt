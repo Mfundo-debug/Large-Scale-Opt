{
  "nbformat": 4,
  "nbformat_minor": 0,
  "metadata": {
    "kernelspec": {
      "display_name": "Python 3",
      "language": "python",
      "name": "python3"
    },
    "language_info": {
      "codemirror_mode": {
        "name": "ipython",
        "version": 3
      },
      "file_extension": ".py",
      "mimetype": "text/x-python",
      "name": "python",
      "nbconvert_exporter": "python",
      "pygments_lexer": "ipython3",
      "version": "3.7.7"
    },
    "colab": {
      "name": "NLSO841 - CaseStudies 2- 2021.ipynb",
      "provenance": []
    }
  },
  "cells": [
    {
      "cell_type": "markdown",
      "metadata": {
        "deletable": false,
        "editable": false,
        "id": "XyjVHRapP1DB"
      },
      "source": [
        "![spu%20small.png](attachment:spu%20small.png)"
      ]
    },
    {
      "cell_type": "markdown",
      "metadata": {
        "deletable": false,
        "editable": false,
        "id": "1xzNLscqP1DE"
      },
      "source": [
        "<h3 style=\"color:Brown\"> <center>Department of Computer Science and Information Technology </center></h3>\n",
        "\n",
        "<h4 style=\"color:Blue;\"><center><i>Lecture note on Large Scale Optimization (NLSO841)</i></center></h4>\n",
        "\n",
        "<center><mark>Mfundo</mark> </center>"
      ]
    },
    {
      "cell_type": "markdown",
      "metadata": {
        "id": "qd81dYSSP1DF"
      },
      "source": [
        "# Gradient Descent Method to solve Linear regression Problem"
      ]
    },
    {
      "cell_type": "code",
      "metadata": {
        "id": "bmRo-KFiP1DG"
      },
      "source": [
        "import numpy as np\n",
        "from sklearn.metrics import mean_squared_error"
      ],
      "execution_count": null,
      "outputs": []
    },
    {
      "cell_type": "code",
      "metadata": {
        "id": "NXT84Dp4P1DH"
      },
      "source": [
        "def GDM(X,y, step = 0.06, iteration = 200):\n",
        "    \n",
        "    intercept = 0.35\n",
        "    slope = 0.4\n",
        "    \n",
        "    mse = []\n",
        "    trackLog = []\n",
        "    \n",
        "    numRecord = len(X)\n",
        "    \n",
        "    for i in list(range(iteration)):\n",
        "        f = y - (slope * X + intercept)\n",
        "        \n",
        "        slope = slope - step * (-2 * X.dot(f).sum() / numRecord)\n",
        "        intercept = intercept - step * (-2 * f.sum() / numRecord)\n",
        "        \n",
        "        mse.append(mean_squared_error(y,(slope * X + intercept)))\n",
        "        trackLog.append((slope,intercept))\n",
        "        \n",
        "    return slope,intercept,mse,trackLog"
      ],
      "execution_count": null,
      "outputs": []
    },
    {
      "cell_type": "code",
      "metadata": {
        "id": "j65HsUJqP1DI"
      },
      "source": [
        "np.random.seed(25)\n",
        "\n",
        "X = np.array(sorted(list(range(5))*30)) + np.random.normal(size = 150, scale = 0.5)\n",
        "y = np.array(sorted(list(range(5))*30)) + np.random.normal(size = 150, scale = 0.25)\n",
        "\n",
        "slope,intercept,mse,trackLog = GDM(X,y)\n",
        "f = slope * X + intercept"
      ],
      "execution_count": null,
      "outputs": []
    },
    {
      "cell_type": "code",
      "metadata": {
        "colab": {
          "base_uri": "https://localhost:8080/"
        },
        "id": "MxkD_hC-P1DI",
        "outputId": "5933e4ea-d82f-4140-fed7-e1181e85d3a2"
      },
      "source": [
        "slope"
      ],
      "execution_count": null,
      "outputs": [
        {
          "output_type": "execute_result",
          "data": {
            "text/plain": [
              "0.9065200869798901"
            ]
          },
          "metadata": {
            "tags": []
          },
          "execution_count": 4
        }
      ]
    },
    {
      "cell_type": "code",
      "metadata": {
        "colab": {
          "base_uri": "https://localhost:8080/"
        },
        "id": "2_3B7kg9P1DK",
        "outputId": "6459d467-c64a-40a7-df34-15c3b2ab4cad"
      },
      "source": [
        "intercept"
      ],
      "execution_count": null,
      "outputs": [
        {
          "output_type": "execute_result",
          "data": {
            "text/plain": [
              "0.1913076428360722"
            ]
          },
          "metadata": {
            "tags": []
          },
          "execution_count": 5
        }
      ]
    },
    {
      "cell_type": "code",
      "metadata": {
        "scrolled": false,
        "id": "nP96UM3sP1DL"
      },
      "source": [
        "mse"
      ],
      "execution_count": null,
      "outputs": []
    },
    {
      "cell_type": "code",
      "metadata": {
        "scrolled": false,
        "id": "hUOOcEvSP1DM"
      },
      "source": [
        "trackLog"
      ],
      "execution_count": null,
      "outputs": []
    },
    {
      "cell_type": "code",
      "metadata": {
        "scrolled": true,
        "colab": {
          "base_uri": "https://localhost:8080/",
          "height": 265
        },
        "id": "wQWY4Q_DP1DM",
        "outputId": "c92c814d-801a-4cb4-c8cb-6891dcba57fd"
      },
      "source": [
        "import matplotlib.pyplot as plt\n",
        "\n",
        "plt.scatter(X,y, color = 'red')\n",
        "plt.plot(X,f)\n",
        "\n",
        "plt.show()"
      ],
      "execution_count": null,
      "outputs": [
        {
          "output_type": "display_data",
          "data": {
            "image/png": "[encoded data removed]",
            "text/plain": [
              "<Figure size 432x288 with 1 Axes>"
            ]
          },
          "metadata": {
            "tags": [],
            "needs_background": "light"
          }
        }
      ]
    },
    {
      "cell_type": "code",
      "metadata": {
        "colab": {
          "base_uri": "https://localhost:8080/",
          "height": 265
        },
        "id": "KcGo2uI6P1DN",
        "outputId": "177e9fe2-dd53-4627-94f7-de49c871a228"
      },
      "source": [
        "plt.plot(range(200),mse)\n",
        "plt.show()"
      ],
      "execution_count": null,
      "outputs": [
        {
          "output_type": "display_data",
          "data": {
            "image/png": "[encoded data removed]",
            "text/plain": [
              "<Figure size 432x288 with 1 Axes>"
            ]
          },
          "metadata": {
            "tags": [],
            "needs_background": "light"
          }
        }
      ]
    },
    {
      "cell_type": "code",
      "metadata": {
        "id": "kf30EeWLQl7m"
      },
      "source": [
        ""
      ],
      "execution_count": null,
      "outputs": []
    }
  ]
}