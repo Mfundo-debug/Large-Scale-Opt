{
  "nbformat": 4,
  "nbformat_minor": 0,
  "metadata": {
    "kernelspec": {
      "display_name": "Python 3",
      "language": "python",
      "name": "python3"
    },
    "language_info": {
      "codemirror_mode": {
        "name": "ipython",
        "version": 3
      },
      "file_extension": ".py",
      "mimetype": "text/x-python",
      "name": "python",
      "nbconvert_exporter": "python",
      "pygments_lexer": "ipython3",
      "version": "3.7.1"
    },
    "colab": {
      "name": "Question 5.ipynb",
      "provenance": []
    }
  },
  "cells": [
    {
      "cell_type": "markdown",
      "metadata": {
        "id": "hsZ1TEpWt4WK"
      },
      "source": [
        "# Question 5.1 "
      ]
    },
    {
      "cell_type": "code",
      "metadata": {
        "id": "VFN3FiH-t4WO"
      },
      "source": [
        "import numpy as np\n",
        "from matplotlib import pyplot as plt"
      ],
      "execution_count": null,
      "outputs": []
    },
    {
      "cell_type": "code",
      "metadata": {
        "id": "f-0bqocdt4WS"
      },
      "source": [
        "N = 200\n",
        "dim = 40\n",
        "lmbda = 1/np.sqrt(N)\n",
        "iteration = 100\n",
        "L = 4\n",
        "stepsize = 1/L"
      ],
      "execution_count": null,
      "outputs": []
    },
    {
      "cell_type": "code",
      "metadata": {
        "id": "QpppH7QCt4WT"
      },
      "source": [
        "np.random.seed(50)\n",
        "w = np.matrix(np.random.multivariate_normal([0.0]*dim, np.eye(dim))).T\n",
        "X = np.matrix(np.random.multivariate_normal([0.0]*dim, np.eye(dim), size = N))\n",
        "y = X*w"
      ],
      "execution_count": null,
      "outputs": []
    },
    {
      "cell_type": "code",
      "metadata": {
        "id": "mmY0UtLft4WV",
        "outputId": "d362f41a-1672-4172-aadf-7f5e8a1231b8"
      },
      "source": [
        "X[10]"
      ],
      "execution_count": null,
      "outputs": [
        {
          "output_type": "execute_result",
          "data": {
            "text/plain": [
              "matrix([[-0.2546721 ,  0.19917438, -2.53004438, -0.67761295, -0.80183918,\n",
              "         -1.88500871, -0.15086424, -0.05446797, -0.88571798, -0.12239577,\n",
              "         -0.35340969, -2.24934842, -1.4162453 ,  0.14208669, -0.58796602,\n",
              "          0.8766029 ,  0.94420405, -0.37636415, -0.26981292, -0.32555966,\n",
              "          0.3993198 , -1.03457616, -0.24496668, -0.86990688,  0.69080158,\n",
              "          0.38392147, -1.59765443, -1.34621042, -0.54030531,  0.03338843,\n",
              "          0.291211  ,  0.45858759, -0.87827357,  0.65997826,  0.42451178,\n",
              "          0.17132399, -0.22653279,  0.50237529, -0.62934983, -1.00877622]])"
            ]
          },
          "metadata": {
            "tags": []
          },
          "execution_count": 87
        }
      ]
    },
    {
      "cell_type": "code",
      "metadata": {
        "id": "V9NU_TU6t4WY",
        "outputId": "fa16fe32-8a92-4827-e064-b72e5e43d6ff"
      },
      "source": [
        "y[10]"
      ],
      "execution_count": null,
      "outputs": [
        {
          "output_type": "execute_result",
          "data": {
            "text/plain": [
              "matrix([[7.53040717]])"
            ]
          },
          "metadata": {
            "tags": []
          },
          "execution_count": 88
        }
      ]
    },
    {
      "cell_type": "code",
      "metadata": {
        "id": "HSFyhlOmt4Wa"
      },
      "source": [
        "def clip(beta, alpha):\n",
        "    clipped = np.minimum(beta, alpha)\n",
        "    clipped = np.maximum(clipped, -alpha)\n",
        "    \n",
        "    return clipped "
      ],
      "execution_count": null,
      "outputs": []
    },
    {
      "cell_type": "code",
      "metadata": {
        "id": "W9kC0wcPt4Wc"
      },
      "source": [
        "def proxL1Norm(betaHat, alpha):\n",
        "    penalizeAll = True\n",
        "    out = betaHat - clip(betaHat, alpha)\n",
        "    \n",
        "    if not penalizeAll:\n",
        "        out[0] = betaHat[0]\n",
        "    return out"
      ],
      "execution_count": null,
      "outputs": []
    },
    {
      "cell_type": "code",
      "metadata": {
        "id": "xmoAWlE3t4We"
      },
      "source": [
        "def solveLasso_proxGrad(X,y, lmbda):\n",
        "    maxIter = iteration # 100\n",
        "    alpha = stepsize\n",
        "    \n",
        "    beta = np.zeros(dim)\n",
        "    costFunVals = np.zeros(maxIter)\n",
        "    \n",
        "    for it in range(maxIter):\n",
        "        \n",
        "        grad = X.T @(X @ beta - y)\n",
        "        beta = proxL1Norm(beta - alpha*grad, alpha*lmbda)\n",
        "        \n",
        "        costFunVals[it] = 0.5*np.linalg.norm(X@beta-y)**2 + lmbda*np.sum(np.abs(beta))\n",
        "        \n",
        "        print('Iteration ', it, 'Objective function value: ', costFunVals[it])\n",
        "        \n",
        "    return beta, costFunVals"
      ],
      "execution_count": null,
      "outputs": []
    },
    {
      "cell_type": "code",
      "metadata": {
        "id": "OEF2PLS8t4Wh"
      },
      "source": [
        "beta, costFunVals = solveLasso_proxGrad(X,y,lmbda)"
      ],
      "execution_count": null,
      "outputs": []
    },
    {
      "cell_type": "code",
      "metadata": {
        "id": "AiSVZ--9t4Wh",
        "outputId": "0d3e68db-df5e-4f2d-9385-cf998a8b2264"
      },
      "source": [
        "plt.figure()\n",
        "plt.stem(beta);"
      ],
      "execution_count": null,
      "outputs": [
        {
          "output_type": "display_data",
          "data": {
            "image/png": "[encoded data removed]",
            "text/plain": [
              "<Figure size 432x288 with 1 Axes>"
            ]
          },
          "metadata": {
            "tags": [],
            "needs_background": "light"
          }
        }
      ]
    },
    {
      "cell_type": "code",
      "metadata": {
        "id": "jULZsKGut4Wi",
        "outputId": "4b1c813c-d038-4a61-da00-0459bae06eef"
      },
      "source": [
        "plt.figure()\n",
        "plt.semilogy(costFunVals);"
      ],
      "execution_count": null,
      "outputs": [
        {
          "output_type": "display_data",
          "data": {
            "image/png": "[encoded data removed]",
            "text/plain": [
              "<Figure size 432x288 with 1 Axes>"
            ]
          },
          "metadata": {
            "tags": [],
            "needs_background": "light"
          }
        }
      ]
    },
    {
      "cell_type": "markdown",
      "metadata": {
        "id": "wH9IDw_Jt4Wj"
      },
      "source": [
        "## Own Generated Data "
      ]
    },
    {
      "cell_type": "code",
      "metadata": {
        "id": "X4InxHFBt4Wk",
        "outputId": "bead0d9d-2d85-467e-dab5-695a79ec1a0c"
      },
      "source": [
        "np.random.seed(19)\n",
        "N = 40\n",
        "d = 200\n",
        "nnz = 3\n",
        "prm = np.random.permutation(d+1)\n",
        "betaTrue = np.zeros(d+1)\n",
        "betaTrue[prm[0:nnz]] = 5*np.random.randn(nnz)\n",
        "\n",
        "X = np.random.randn(N,d)\n",
        "X = np.insert(X, 0,1,axis = 1)\n",
        "\n",
        "noise = .001*np.random.randn(N)\n",
        "\n",
        "y = X @ betaTrue + noise\n",
        "\n",
        "plt.stem(betaTrue)\n",
        "plt.title('beta (groud truth)')"
      ],
      "execution_count": null,
      "outputs": [
        {
          "output_type": "execute_result",
          "data": {
            "text/plain": [
              "Text(0.5, 1.0, 'beta (groud truth)')"
            ]
          },
          "metadata": {
            "tags": []
          },
          "execution_count": 41
        },
        {
          "output_type": "display_data",
          "data": {
            "image/png": "[encoded data removed]",
            "text/plain": [
              "<Figure size 432x288 with 1 Axes>"
            ]
          },
          "metadata": {
            "tags": [],
            "needs_background": "light"
          }
        }
      ]
    },
    {
      "cell_type": "code",
      "metadata": {
        "id": "IDF7rmfAt4Wl",
        "outputId": "d7de8f35-8d7d-471c-fc84-08bd45834525"
      },
      "source": [
        "X[10]"
      ],
      "execution_count": null,
      "outputs": [
        {
          "output_type": "execute_result",
          "data": {
            "text/plain": [
              "array([ 1.        ,  0.43847261,  0.18573689,  0.91598763,  0.18792399,\n",
              "       -1.85224404,  0.99611467,  0.29218228, -0.82361455,  0.58260424,\n",
              "       -1.66954501,  0.01715966, -1.36556125, -1.37600847,  2.40927868,\n",
              "       -0.37058618, -0.16461407,  0.75958767,  1.83442338,  0.94039471,\n",
              "       -0.04927458, -0.56194803,  1.3922474 , -0.7224639 ,  0.16659247,\n",
              "       -0.75357354,  0.41513994,  1.83662917,  0.47690677, -0.78419489,\n",
              "        0.61802061,  0.07846184,  1.2808483 ,  0.93410483, -0.13595379,\n",
              "       -0.90013075,  0.42585338, -1.40009139, -1.05216769,  0.60260942,\n",
              "       -1.68636029, -0.23842707,  0.40015769,  0.38143981,  0.66963214,\n",
              "       -0.98703843,  0.57096046, -0.27505991,  1.21997901, -0.24311475,\n",
              "        2.12146628,  2.50645832,  1.90895823,  1.35393197,  0.84010353,\n",
              "       -0.27690269, -0.49520181,  1.19567662,  0.06071403, -1.44510017,\n",
              "        0.1614678 , -0.98054797, -0.22522018, -0.30709595, -0.7971684 ,\n",
              "        1.24284399,  0.04366724, -0.31080032, -0.35094225,  0.92960135,\n",
              "        0.2669693 , -0.46579092, -0.07513337, -0.56109569, -1.21857197,\n",
              "       -0.05600353, -0.33756518,  0.0888546 ,  1.10845549,  0.24603268,\n",
              "       -0.32486385,  0.47907979,  1.31091205, -0.43780954,  0.95309333,\n",
              "        1.11975769, -0.16162337, -2.48095895,  0.24773048,  1.03912199,\n",
              "       -0.48815962,  0.95734257,  0.02477995,  0.36422167, -0.03235259,\n",
              "        0.38744125,  0.75740274,  1.14316376,  0.99223814,  0.97912598,\n",
              "        0.96840676, -1.41437706, -0.93870613,  0.00524809, -1.25208426,\n",
              "       -0.84809077, -1.7439806 ,  1.89040622,  1.27672169,  1.04553181,\n",
              "        1.20408912,  0.45247891, -0.51493437, -0.21201894,  0.62513019,\n",
              "        0.751672  , -2.59189378,  0.24695036,  2.77505515, -1.07081911,\n",
              "       -1.47936718,  0.04574621,  0.61087575,  0.40844946, -2.15491289,\n",
              "        2.34656678, -2.18098135, -0.63465426,  0.60335412, -0.33563236,\n",
              "        0.16551388, -1.19053733,  0.57740283,  0.4737449 ,  1.13146372,\n",
              "        2.40594564, -0.49812183, -0.78049461, -0.53150189,  0.54008622,\n",
              "       -1.23824211,  0.36588334, -0.66905966,  0.26998042, -1.30387962,\n",
              "       -0.96792082,  0.02092793,  0.88040933, -0.59835149, -1.19179866,\n",
              "        0.51297349, -0.55106521,  0.68840756, -0.10769741, -1.54366583,\n",
              "       -1.03137176,  1.22326949, -2.37717235,  0.64231052,  0.59300434,\n",
              "       -0.93418543, -0.50714219, -1.07235654,  0.82627801,  0.28181277,\n",
              "       -1.42889732, -0.44177375,  1.06040647,  1.51704683, -0.80189345,\n",
              "       -0.14793021, -0.20805444, -0.43990514, -0.75034551,  0.5504551 ,\n",
              "        0.59181373,  0.35746653,  0.23218563,  0.06292007, -0.1414702 ,\n",
              "       -1.12403543,  0.00588852,  0.88729081, -0.43928805,  1.44182698,\n",
              "       -1.71832848, -0.62184547,  1.00871919, -0.23445147,  0.11635217,\n",
              "        1.43503722, -0.43365069, -0.35696668,  0.60023253,  0.97671102,\n",
              "       -0.42383314,  0.59161464, -0.1972097 ,  2.17399918,  0.56639948,\n",
              "       -1.27773006])"
            ]
          },
          "metadata": {
            "tags": []
          },
          "execution_count": 65
        }
      ]
    },
    {
      "cell_type": "code",
      "metadata": {
        "id": "VtlO8T1-t4Wm",
        "outputId": "0c9bd314-2874-4ea9-d2dc-5d62e2f0d96c"
      },
      "source": [
        "y[10]"
      ],
      "execution_count": null,
      "outputs": [
        {
          "output_type": "execute_result",
          "data": {
            "text/plain": [
              "matrix([[16.81808466]])"
            ]
          },
          "metadata": {
            "tags": []
          },
          "execution_count": 74
        }
      ]
    },
    {
      "cell_type": "code",
      "metadata": {
        "id": "XcQNacobt4Wm"
      },
      "source": [
        "def clip(beta, alpha):\n",
        "    clipped = np.minimum(beta, alpha)\n",
        "    clipped = np.maximum(clipped, -alpha)\n",
        "    \n",
        "    return clipped "
      ],
      "execution_count": null,
      "outputs": []
    },
    {
      "cell_type": "code",
      "metadata": {
        "id": "V_L2x0wSt4Wn"
      },
      "source": [
        "def proxL1Norm(betaHat, alpha):\n",
        "    penalizeAll = True\n",
        "    out = betaHat - clip(betaHat, alpha)\n",
        "    \n",
        "    if not penalizeAll:\n",
        "        out[0] = betaHat[0]\n",
        "    return out"
      ],
      "execution_count": null,
      "outputs": []
    },
    {
      "cell_type": "code",
      "metadata": {
        "id": "KgCVr7wHt4Wn"
      },
      "source": [
        "def solveLasso_proxGrad(X,y, lmbda):\n",
        "    maxIter = 100\n",
        "    alpha = 0.005\n",
        "    \n",
        "    beta = np.zeros(d+1)\n",
        "    costFunVals = np.zeros(maxIter)\n",
        "    \n",
        "    for t in range(maxIter):\n",
        "        \n",
        "        grad = X.T @(X @ beta - y)\n",
        "        beta = proxL1Norm(beta - alpha*grad, alpha*lmbda)\n",
        "        \n",
        "        costFunVals[t] = 0.5*np.linalg.norm(X@beta-y)**2 + lmbda*np.sum(np.abs(beta))\n",
        "        \n",
        "        print('Iteration ', t, 'Objective function value: ', costFunVals[t])\n",
        "        \n",
        "    return beta, costFunVals"
      ],
      "execution_count": null,
      "outputs": []
    },
    {
      "cell_type": "code",
      "metadata": {
        "id": "OL4jAiCVt4Wo"
      },
      "source": [
        "lmbda = 10"
      ],
      "execution_count": null,
      "outputs": []
    },
    {
      "cell_type": "code",
      "metadata": {
        "id": "Vy6rYP-tt4Wo",
        "outputId": "fe80a600-8b82-4d01-d451-5b09d6d6c864"
      },
      "source": [
        "beta, costFunVals = solveLasso_proxGrad(X,y,lmbda)"
      ],
      "execution_count": null,
      "outputs": [
        {
          "output_type": "stream",
          "text": [
            "Iteration  0 Objective function value:  771.518390980057\n",
            "Iteration  1 Objective function value:  552.2249522580435\n",
            "Iteration  2 Objective function value:  458.910526844542\n",
            "Iteration  3 Objective function value:  376.9967917932423\n",
            "Iteration  4 Objective function value:  330.270382851581\n",
            "Iteration  5 Objective function value:  286.95817654471193\n",
            "Iteration  6 Objective function value:  258.0010602059525\n",
            "Iteration  7 Objective function value:  232.2486983483563\n",
            "Iteration  8 Objective function value:  215.86628798622397\n",
            "Iteration  9 Objective function value:  204.25088832278274\n",
            "Iteration  10 Objective function value:  197.1027881282075\n",
            "Iteration  11 Objective function value:  191.8258920461954\n",
            "Iteration  12 Objective function value:  187.3151613751046\n",
            "Iteration  13 Objective function value:  183.17919006983516\n",
            "Iteration  14 Objective function value:  179.28276711861506\n",
            "Iteration  15 Objective function value:  175.73693089778382\n",
            "Iteration  16 Objective function value:  172.3216326739573\n",
            "Iteration  17 Objective function value:  169.00785728231028\n",
            "Iteration  18 Objective function value:  165.82320713467269\n",
            "Iteration  19 Objective function value:  162.7537768451464\n",
            "Iteration  20 Objective function value:  159.76631075161808\n",
            "Iteration  21 Objective function value:  157.00595906327595\n",
            "Iteration  22 Objective function value:  154.35218170890664\n",
            "Iteration  23 Objective function value:  151.78649039466472\n",
            "Iteration  24 Objective function value:  149.33450068100834\n",
            "Iteration  25 Objective function value:  146.94825306911366\n",
            "Iteration  26 Objective function value:  144.6338951755973\n",
            "Iteration  27 Objective function value:  142.41592652305874\n",
            "Iteration  28 Objective function value:  140.33025391220153\n",
            "Iteration  29 Objective function value:  138.32523375702436\n",
            "Iteration  30 Objective function value:  136.38922790442533\n",
            "Iteration  31 Objective function value:  134.522593599906\n",
            "Iteration  32 Objective function value:  132.72373170274474\n",
            "Iteration  33 Objective function value:  131.02065721614593\n",
            "Iteration  34 Objective function value:  129.36780154621601\n",
            "Iteration  35 Objective function value:  127.74791099369631\n",
            "Iteration  36 Objective function value:  126.15381742420196\n",
            "Iteration  37 Objective function value:  124.58069209200862\n",
            "Iteration  38 Objective function value:  123.0250949287781\n",
            "Iteration  39 Objective function value:  121.49072924595627\n",
            "Iteration  40 Objective function value:  119.97316798487057\n",
            "Iteration  41 Objective function value:  118.46819978970323\n",
            "Iteration  42 Objective function value:  116.97913395723822\n",
            "Iteration  43 Objective function value:  115.51389818325767\n",
            "Iteration  44 Objective function value:  114.07027044048618\n",
            "Iteration  45 Objective function value:  112.651352016037\n",
            "Iteration  46 Objective function value:  111.26086993773322\n",
            "Iteration  47 Objective function value:  109.90475649119293\n",
            "Iteration  48 Objective function value:  108.61045281215316\n",
            "Iteration  49 Objective function value:  107.43489797733939\n",
            "Iteration  50 Objective function value:  106.3244948849842\n",
            "Iteration  51 Objective function value:  105.27262192970059\n",
            "Iteration  52 Objective function value:  104.29117136793663\n",
            "Iteration  53 Objective function value:  103.36643359392465\n",
            "Iteration  54 Objective function value:  102.48235010612416\n",
            "Iteration  55 Objective function value:  101.63395690185\n",
            "Iteration  56 Objective function value:  100.81244411325002\n",
            "Iteration  57 Objective function value:  100.01505397061818\n",
            "Iteration  58 Objective function value:  99.23996316525962\n",
            "Iteration  59 Objective function value:  98.50501632538291\n",
            "Iteration  60 Objective function value:  97.8133987516466\n",
            "Iteration  61 Objective function value:  97.17252500000171\n",
            "Iteration  62 Objective function value:  96.65013614648655\n",
            "Iteration  63 Objective function value:  96.22338403127873\n",
            "Iteration  64 Objective function value:  95.87049043968767\n",
            "Iteration  65 Objective function value:  95.57394886825756\n",
            "Iteration  66 Objective function value:  95.3171266330185\n",
            "Iteration  67 Objective function value:  95.10545713740156\n",
            "Iteration  68 Objective function value:  94.9461923297224\n",
            "Iteration  69 Objective function value:  94.83438108844994\n",
            "Iteration  70 Objective function value:  94.75634601873267\n",
            "Iteration  71 Objective function value:  94.70630442843017\n",
            "Iteration  72 Objective function value:  94.67857642266493\n",
            "Iteration  73 Objective function value:  94.66210907226261\n",
            "Iteration  74 Objective function value:  94.65195372573437\n",
            "Iteration  75 Objective function value:  94.6455940517022\n",
            "Iteration  76 Objective function value:  94.64154701639454\n",
            "Iteration  77 Objective function value:  94.6389290293733\n",
            "Iteration  78 Objective function value:  94.6372073948341\n",
            "Iteration  79 Objective function value:  94.63605683379204\n",
            "Iteration  80 Objective function value:  94.63527597970209\n",
            "Iteration  81 Objective function value:  94.63473834843712\n",
            "Iteration  82 Objective function value:  94.6343632743558\n",
            "Iteration  83 Objective function value:  94.63409850304423\n",
            "Iteration  84 Objective function value:  94.63390964838095\n",
            "Iteration  85 Objective function value:  94.63377372953947\n",
            "Iteration  86 Objective function value:  94.63367515743515\n",
            "Iteration  87 Objective function value:  94.63360320777407\n",
            "Iteration  88 Objective function value:  94.63355040696905\n",
            "Iteration  89 Objective function value:  94.63351148570347\n",
            "Iteration  90 Objective function value:  94.63348269022421\n",
            "Iteration  91 Objective function value:  94.63346132226243\n",
            "Iteration  92 Objective function value:  94.63344542720765\n",
            "Iteration  93 Objective function value:  94.63343357984415\n",
            "Iteration  94 Objective function value:  94.63342473523858\n",
            "Iteration  95 Objective function value:  94.63341812375941\n",
            "Iteration  96 Objective function value:  94.6334131763998\n",
            "Iteration  97 Objective function value:  94.6334094711726\n",
            "Iteration  98 Objective function value:  94.63340669432898\n",
            "Iteration  99 Objective function value:  94.63340461211375\n"
          ],
          "name": "stdout"
        }
      ]
    },
    {
      "cell_type": "code",
      "metadata": {
        "id": "K79-EOm0t4Wp",
        "outputId": "6ea1086b-5d9c-4424-c645-dde0c16dbe78"
      },
      "source": [
        "plt.figure()\n",
        "plt.stem(beta);"
      ],
      "execution_count": null,
      "outputs": [
        {
          "output_type": "display_data",
          "data": {
            "image/png": "[encoded data removed]",
            "text/plain": [
              "<Figure size 432x288 with 1 Axes>"
            ]
          },
          "metadata": {
            "tags": [],
            "needs_background": "light"
          }
        }
      ]
    },
    {
      "cell_type": "markdown",
      "metadata": {
        "id": "TDAWgr3gt4Wq"
      },
      "source": [
        "# Question 5.3"
      ]
    },
    {
      "cell_type": "code",
      "metadata": {
        "id": "Ig_j_6t6t4Wr",
        "outputId": "57e1d59c-fc12-43a2-9676-6d7749080079"
      },
      "source": [
        "plt.figure()\n",
        "plt.semilogy(costFunVals, label = 'Proximal gradient method');\n",
        "plt.legend();\n",
        "plt.xlabel('Iteration');\n",
        "plt.ylabel('Objective Function Value');"
      ],
      "execution_count": null,
      "outputs": [
        {
          "output_type": "display_data",
          "data": {
            "image/png": "[encoded data removed]",
            "text/plain": [
              "<Figure size 432x288 with 1 Axes>"
            ]
          },
          "metadata": {
            "tags": [],
            "needs_background": "light"
          }
        }
      ]
    },
    {
      "cell_type": "code",
      "metadata": {
        "id": "keKxjLOLt4Ws"
      },
      "source": [
        ""
      ],
      "execution_count": null,
      "outputs": []
    }
  ]
}