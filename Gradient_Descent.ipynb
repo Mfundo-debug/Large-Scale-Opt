{
  "nbformat": 4,
  "nbformat_minor": 0,
  "metadata": {
    "colab": {
      "name": "Gradient Descent",
      "provenance": [],
      "collapsed_sections": []
    },
    "kernelspec": {
      "name": "python3",
      "display_name": "Python 3"
    },
    "language_info": {
      "name": "python"
    }
  },
  "cells": [
    {
      "cell_type": "code",
      "metadata": {
        "id": "cIyCn08RTych"
      },
      "source": [
        "import numpy as np\n",
        "import matplotlib.pyplot as plt"
      ],
      "execution_count": null,
      "outputs": []
    },
    {
      "cell_type": "code",
      "metadata": {
        "id": "RE9NBwXmUJiC"
      },
      "source": [
        "def J(w):\n",
        "  return (w-2.5)**2"
      ],
      "execution_count": null,
      "outputs": []
    },
    {
      "cell_type": "code",
      "metadata": {
        "colab": {
          "base_uri": "https://localhost:8080/",
          "height": 295
        },
        "id": "PcjuHi2OUWa3",
        "outputId": "06fd077a-fd74-4c90-fc4f-210e6598b17c"
      },
      "source": [
        "n = 100\n",
        "w = np.linspace(-5, 10, n)\n",
        "plt.plot(w,J(w))\n",
        "plt.ylabel('J(w)', rotation = 0, labelpad= 20)\n",
        "plt.xlabel('w')\n",
        "plt.title('Cost function')\n",
        "plt.show()"
      ],
      "execution_count": null,
      "outputs": [
        {
          "output_type": "display_data",
          "data": {
            "image/png": "[encoded data removed]",
            "text/plain": [
              "<Figure size 432x288 with 1 Axes>"
            ]
          },
          "metadata": {
            "tags": [],
            "needs_background": "light"
          }
        }
      ]
    },
    {
      "cell_type": "code",
      "metadata": {
        "id": "RtFWBInCU8Vh"
      },
      "source": [
        "def deriv(w):\n",
        "    return 2*(w-2.5)\n"
      ],
      "execution_count": null,
      "outputs": []
    },
    {
      "cell_type": "code",
      "metadata": {
        "id": "GdHgeGBqVlhV"
      },
      "source": [
        "w = -4\n",
        "lr = 0.01\n",
        "epochs = 1000\n",
        "count = 0\n",
        "M = []\n",
        "while count < epochs:\n",
        "  w = w - lr*deriv(w)\n",
        "  M.append(w)\n",
        "  print(w)\n",
        "  count +=1"
      ],
      "execution_count": null,
      "outputs": []
    },
    {
      "cell_type": "code",
      "metadata": {
        "colab": {
          "base_uri": "https://localhost:8080/",
          "height": 282
        },
        "id": "UCFQfdHGXl49",
        "outputId": "8c7d12bd-b88d-4516-9cb6-8eb6f5fdfc3f"
      },
      "source": [
        "plt.plot(M)"
      ],
      "execution_count": null,
      "outputs": [
        {
          "output_type": "execute_result",
          "data": {
            "text/plain": [
              "[<matplotlib.lines.Line2D at 0x7f9386a69a50>]"
            ]
          },
          "metadata": {
            "tags": []
          },
          "execution_count": 18
        },
        {
          "output_type": "display_data",
          "data": {
            "image/png": "[encoded data removed]",
            "text/plain": [
              "<Figure size 432x288 with 1 Axes>"
            ]
          },
          "metadata": {
            "tags": [],
            "needs_background": "light"
          }
        }
      ]
    },
    {
      "cell_type": "code",
      "metadata": {
        "id": "T-8UWvmBXqvZ"
      },
      "source": [
        ""
      ],
      "execution_count": null,
      "outputs": []
    }
  ]
}