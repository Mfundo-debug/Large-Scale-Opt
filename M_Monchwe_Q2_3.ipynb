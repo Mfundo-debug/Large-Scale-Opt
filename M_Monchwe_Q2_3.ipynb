{
  "nbformat": 4,
  "nbformat_minor": 0,
  "metadata": {
    "kernelspec": {
      "display_name": "Python 3",
      "language": "python",
      "name": "python3"
    },
    "language_info": {
      "codemirror_mode": {
        "name": "ipython",
        "version": 3
      },
      "file_extension": ".py",
      "mimetype": "text/x-python",
      "name": "python",
      "nbconvert_exporter": "python",
      "pygments_lexer": "ipython3",
      "version": "3.8.5"
    },
    "colab": {
      "name": "M Monchwe Q2.3.ipynb",
      "provenance": []
    }
  },
  "cells": [
    {
      "cell_type": "markdown",
      "metadata": {
        "id": "SvNJ67Rwcpxy"
      },
      "source": [
        "## Question 2.3"
      ]
    },
    {
      "cell_type": "markdown",
      "metadata": {
        "id": "LhaIT4nKcpx0"
      },
      "source": [
        "**Objective function:** $f(x) = x_1^2 -2x_1x_2 + 4x_2^2$\n",
        "\n",
        "*   List item\n",
        "*   List item\n",
        "\n"
      ]
    },
    {
      "cell_type": "code",
      "metadata": {
        "id": "7Jyf2Q-xcpx1"
      },
      "source": [
        "import numpy as np\n",
        "import matplotlib.pyplot as plt"
      ],
      "execution_count": null,
      "outputs": []
    },
    {
      "cell_type": "markdown",
      "metadata": {
        "id": "iVZfqvXicpx2"
      },
      "source": [
        "## Gradient descent"
      ]
    },
    {
      "cell_type": "code",
      "metadata": {
        "id": "LA6-P-kicpx2"
      },
      "source": [
        "# define objective function\n",
        "def f(x):\n",
        "    x1 = x[0]\n",
        "    x2 = x[1]\n",
        "    obj = x1**2 - (2.0*x1*x2) + 4.0*x2**2\n",
        "    return obj\n",
        "\n",
        "# define objective gradient\n",
        "def dfdx(x):\n",
        "    x1 = x[0]\n",
        "    x2 = x[1]\n",
        "    grad = []\n",
        "    grad.append(2.0*x1 -2.0*x2)\n",
        "    grad.append(-2.0*x1 + 8.0*x2)\n",
        "    return grad"
      ],
      "execution_count": null,
      "outputs": []
    },
    {
      "cell_type": "code",
      "metadata": {
        "id": "iUDi9l00cpx3"
      },
      "source": [
        "# Number of iterations\n",
        "iterations = 100\n",
        "\n",
        "# Start location\n",
        "x_start = [1.0, -2.0]\n",
        "\n",
        "# Use this alpha for every line search\n",
        "alpha = 0.05\n",
        "\n",
        "# Initialize xs\n",
        "xs = np.zeros((iterations+1,2))\n",
        "xs[0] = x_start\n",
        "\n",
        "objGD = []\n",
        "\n",
        "# Get gradient at start location (df/dx or grad(f))\n",
        "for i in range(iterations):\n",
        "    \n",
        "    objval = f(xs[i])\n",
        "    \n",
        "    # Compute search direction \n",
        "    xs[i+1] = xs[i] - np.dot(alpha,dfdx(xs[i]))\n",
        "    \n",
        "    objGD.append(objval)\n",
        "    "
      ],
      "execution_count": null,
      "outputs": []
    },
    {
      "cell_type": "code",
      "metadata": {
        "id": "XIAVsRb0cpx4"
      },
      "source": [
        "# Start location\n",
        "x_start = [1.0, -2.0]\n",
        "\n",
        "# Design variables at mesh points\n",
        "i1 = np.arange(-4.0, 4.0, 0.1)\n",
        "i2 = np.arange(-4.0, 4.0, 0.1)\n",
        "\n",
        "x1_mesh, x2_mesh = np.meshgrid(i1, i2)\n",
        "\n",
        "f_mesh =  x1_mesh**2 -2*x1_mesh*x2_mesh +  4*x2_mesh**2\n",
        "\n",
        "# Create a contour plot\n",
        "plt.figure(figsize = (6,4))\n",
        "\n",
        "# Specify contour lines\n",
        "lines = range(2,52,2)\n",
        "\n",
        "# Plot contours\n",
        "CS = plt.contour(x1_mesh, x2_mesh, f_mesh,lines)\n",
        "\n",
        "# Label contours\n",
        "plt.clabel(CS, inline=1, fontsize=8)\n",
        "\n",
        "plt.plot(xs[:,0],xs[:,1],'g-o')\n",
        "\n",
        "# Add some text to the plot\n",
        "plt.title(r'$f(x) = x_1^2 - 2x_1x_2 + 4x_2^2$')\n",
        "plt.xlabel('x1')\n",
        "plt.ylabel('x2')\n",
        "\n",
        "# Show the plot\n",
        "plt.show()"
      ],
      "execution_count": null,
      "outputs": []
    },
    {
      "cell_type": "markdown",
      "metadata": {
        "id": "dkrkuuG3cpx4"
      },
      "source": [
        "### Stochastic Gradient Descent"
      ]
    },
    {
      "cell_type": "code",
      "metadata": {
        "id": "EYuk8M6Ycpx4"
      },
      "source": [
        "# define objective function\n",
        "def f(x):\n",
        "    x1 = x[0]\n",
        "    x2 = x[1]\n",
        "    obj = x1**2 - (2.0*x1*x2) + 4.0*x2**2\n",
        "    return obj\n",
        "\n",
        "# define objective gradient\n",
        "def dfdx(x):\n",
        "    x1 = x[0][0]\n",
        "    x2 = x[0][1]\n",
        "    grad = []\n",
        "    grad.append(2.0*x1 -2.0*x2)\n",
        "    grad.append(-2.0*x1 + 8.0*x2)\n",
        "    return grad\n",
        "\n",
        "\n",
        "X = 5 * np.random.rand(100, 2)\n",
        "\n",
        "lrate = 0.05 # learning rate\n",
        "\n",
        "iterations = 100\n",
        "passes = 5\n",
        "\n",
        "tta = [1.0, -2.0] \n",
        "\n",
        "objSGD = []\n",
        "\n",
        "for itr in range(iterations): \n",
        "    \n",
        "    objval = f(tta)\n",
        "    objSGD.append(objval)\n",
        "    \n",
        "    for i in range(passes): \n",
        "        pickINDX = np.random.randint(passes)\n",
        "        xi = X[pickINDX:pickINDX+1]\n",
        "        \n",
        "        gradient = dfdx(xi) \n",
        "\n",
        "        tta = tta - lrate * np.array(gradient)\n",
        "        \n",
        "        X[pickINDX:pickINDX+1] = tta\n",
        "        "
      ],
      "execution_count": null,
      "outputs": []
    },
    {
      "cell_type": "code",
      "metadata": {
        "id": "fi6wr01Acpx5"
      },
      "source": [
        ""
      ],
      "execution_count": null,
      "outputs": []
    },
    {
      "cell_type": "code",
      "metadata": {
        "id": "B13Lqy7Wcpx5"
      },
      "source": [
        ""
      ],
      "execution_count": null,
      "outputs": []
    }
  ]
}