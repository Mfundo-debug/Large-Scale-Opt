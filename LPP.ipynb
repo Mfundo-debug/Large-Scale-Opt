{
  "nbformat": 4,
  "nbformat_minor": 0,
  "metadata": {
    "colab": {
      "name": "LPP ",
      "provenance": [],
      "collapsed_sections": []
    },
    "kernelspec": {
      "name": "python3",
      "display_name": "Python 3"
    },
    "language_info": {
      "name": "python"
    }
  },
  "cells": [
    {
      "cell_type": "code",
      "metadata": {
        "colab": {
          "base_uri": "https://localhost:8080/"
        },
        "id": "43gJbbHCh3Ss",
        "outputId": "4290fa8d-832d-4149-97a1-eb6cdbaa1b2f"
      },
      "source": [
        "!pip install cvxopt"
      ],
      "execution_count": null,
      "outputs": [
        {
          "output_type": "stream",
          "text": [
            "Requirement already satisfied: cvxopt in /usr/local/lib/python3.7/dist-packages (1.2.6)\n"
          ],
          "name": "stdout"
        }
      ]
    },
    {
      "cell_type": "markdown",
      "metadata": {
        "id": "WWWERo4OoSCd"
      },
      "source": [
        "### Solving LPP using cvxopt"
      ]
    },
    {
      "cell_type": "code",
      "metadata": {
        "id": "8kYvx4TciT9D"
      },
      "source": [
        "from cvxopt import solvers, matrix"
      ],
      "execution_count": null,
      "outputs": []
    },
    {
      "cell_type": "code",
      "metadata": {
        "colab": {
          "base_uri": "https://localhost:8080/"
        },
        "id": "mTZHYADbipTl",
        "outputId": "6f297574-4d70-40fb-97f4-8503716bed57"
      },
      "source": [
        "A = matrix([[-1.0, -1.0, 0.0, 1.0],\n",
        "            [1.0, -1.0, -1.0, 2.0]])\n",
        "b = matrix([-1.0, -2.0, 0.0, 4.0])\n",
        "c = matrix([2.0,1.0])\n",
        "\n",
        "solvers.lp(c,A,b)\n"
      ],
      "execution_count": null,
      "outputs": [
        {
          "output_type": "stream",
          "text": [
            "     pcost       dcost       gap    pres   dres   k/t\n",
            " 0:  4.4118e+00  2.8235e+00  3e+00  0e+00  1e+00  1e+00\n",
            " 1:  3.9160e+00  3.5764e+00  7e-01  5e-17  2e-01  2e-01\n",
            " 2:  3.5117e+00  3.4939e+00  3e-02  2e-16  1e-02  9e-03\n",
            " 3:  3.5001e+00  3.4999e+00  4e-04  2e-16  1e-04  1e-04\n",
            " 4:  3.5000e+00  3.5000e+00  4e-06  2e-16  1e-06  1e-06\n",
            " 5:  3.5000e+00  3.5000e+00  4e-08  1e-16  1e-08  1e-08\n",
            "Optimal solution found.\n"
          ],
          "name": "stdout"
        },
        {
          "output_type": "execute_result",
          "data": {
            "text/plain": [
              "{'dual infeasibility': 1.1171348885132646e-08,\n",
              " 'dual objective': 3.4999999944255156,\n",
              " 'dual slack': 6.257589066688173e-09,\n",
              " 'gap': 3.679629477069413e-08,\n",
              " 'iterations': 5,\n",
              " 'primal infeasibility': 1.3612869027365725e-16,\n",
              " 'primal objective': 3.5000000135583567,\n",
              " 'primal slack': 2.766735843515572e-09,\n",
              " 'relative gap': 1.05132270940857e-08,\n",
              " 'residual as dual infeasibility certificate': None,\n",
              " 'residual as primal infeasibility certificate': None,\n",
              " 's': <4x1 matrix, tc='d'>,\n",
              " 'status': 'optimal',\n",
              " 'x': <2x1 matrix, tc='d'>,\n",
              " 'y': <0x1 matrix, tc='d'>,\n",
              " 'z': <4x1 matrix, tc='d'>}"
            ]
          },
          "metadata": {
            "tags": []
          },
          "execution_count": 2
        }
      ]
    },
    {
      "cell_type": "code",
      "metadata": {
        "colab": {
          "base_uri": "https://localhost:8080/"
        },
        "id": "QQ_0yVdOjrln",
        "outputId": "bdc6a6c4-105e-41f9-b66c-3ede0ecae8db"
      },
      "source": [
        "Sol = solvers.lp(c,A,b)\n",
        "print(Sol['x'],Sol['primal objective'])"
      ],
      "execution_count": null,
      "outputs": [
        {
          "output_type": "stream",
          "text": [
            "     pcost       dcost       gap    pres   dres   k/t\n",
            " 0:  4.4118e+00  2.8235e+00  3e+00  0e+00  1e+00  1e+00\n",
            " 1:  3.9160e+00  3.5764e+00  7e-01  5e-17  2e-01  2e-01\n",
            " 2:  3.5117e+00  3.4939e+00  3e-02  2e-16  1e-02  9e-03\n",
            " 3:  3.5001e+00  3.4999e+00  4e-04  2e-16  1e-04  1e-04\n",
            " 4:  3.5000e+00  3.5000e+00  4e-06  2e-16  1e-06  1e-06\n",
            " 5:  3.5000e+00  3.5000e+00  4e-08  1e-16  1e-08  1e-08\n",
            "Optimal solution found.\n",
            "[ 1.50e+00]\n",
            "[ 5.00e-01]\n",
            " 3.5000000135583567\n"
          ],
          "name": "stdout"
        }
      ]
    },
    {
      "cell_type": "markdown",
      "metadata": {
        "id": "izyUyuZyooz9"
      },
      "source": [
        "## Solving QPP using cxvopt"
      ]
    },
    {
      "cell_type": "code",
      "metadata": {
        "colab": {
          "base_uri": "https://localhost:8080/"
        },
        "id": "fSntF9Y5ol1u",
        "outputId": "0e190b27-290f-434d-90cb-55915297a2c0"
      },
      "source": [
        "Q = matrix([[4.0, 1.0],\n",
        "            [1.0, 2.0]])\n",
        "p = matrix([1.0, 1.0])\n",
        "G = matrix([[-1.0, 0.0],\n",
        "            [0.0, -1.0]])\n",
        "A = matrix([[1.0], [1.0]])\n",
        "h = matrix([0.0,0.0])\n",
        "b = matrix([1.0])\n",
        "solvers.qp(Q,p,G,h,A,b)"
      ],
      "execution_count": null,
      "outputs": [
        {
          "output_type": "stream",
          "text": [
            "     pcost       dcost       gap    pres   dres\n",
            " 0:  1.8889e+00  7.7778e-01  1e+00  2e-16  2e+00\n",
            " 1:  1.8769e+00  1.8320e+00  4e-02  2e-16  6e-02\n",
            " 2:  1.8750e+00  1.8739e+00  1e-03  2e-16  5e-04\n",
            " 3:  1.8750e+00  1.8750e+00  1e-05  1e-16  5e-06\n",
            " 4:  1.8750e+00  1.8750e+00  1e-07  1e-16  5e-08\n",
            "Optimal solution found.\n"
          ],
          "name": "stdout"
        },
        {
          "output_type": "execute_result",
          "data": {
            "text/plain": [
              "{'dual infeasibility': 5.3147592893303475e-08,\n",
              " 'dual objective': 1.8749998947297342,\n",
              " 'dual slack': 1.0000000000000038e-08,\n",
              " 'gap': 1.052702838051502e-07,\n",
              " 'iterations': 4,\n",
              " 'primal infeasibility': 1.1102230246251565e-16,\n",
              " 'primal objective': 1.875000000000018,\n",
              " 'primal slack': 0.2500000952702475,\n",
              " 'relative gap': 5.614415451491214e-08,\n",
              " 's': <2x1 matrix, tc='d'>,\n",
              " 'status': 'optimal',\n",
              " 'x': <2x1 matrix, tc='d'>,\n",
              " 'y': <1x1 matrix, tc='d'>,\n",
              " 'z': <2x1 matrix, tc='d'>}"
            ]
          },
          "metadata": {
            "tags": []
          },
          "execution_count": 5
        }
      ]
    },
    {
      "cell_type": "code",
      "metadata": {
        "colab": {
          "base_uri": "https://localhost:8080/"
        },
        "id": "NzPD0LMsp6PO",
        "outputId": "59f93ffa-007d-44fb-bd20-8cb0233dfb60"
      },
      "source": [
        "solq = solvers.qp(Q,p,G,h,A,b)\n",
        "print(solq['x'])"
      ],
      "execution_count": null,
      "outputs": [
        {
          "output_type": "stream",
          "text": [
            "     pcost       dcost       gap    pres   dres\n",
            " 0:  1.8889e+00  7.7778e-01  1e+00  2e-16  2e+00\n",
            " 1:  1.8769e+00  1.8320e+00  4e-02  2e-16  6e-02\n",
            " 2:  1.8750e+00  1.8739e+00  1e-03  2e-16  5e-04\n",
            " 3:  1.8750e+00  1.8750e+00  1e-05  1e-16  5e-06\n",
            " 4:  1.8750e+00  1.8750e+00  1e-07  1e-16  5e-08\n",
            "Optimal solution found.\n",
            "[ 2.50e-01]\n",
            "[ 7.50e-01]\n",
            "\n"
          ],
          "name": "stdout"
        }
      ]
    }
  ]
}